{
 "cells": [
  {
   "cell_type": "markdown",
   "metadata": {},
   "source": [
    "<center>\n",
    "    <img src=\"https://cf-courses-data.s3.us.cloud-object-storage.appdomain.cloud/IBMDeveloperSkillsNetwork-DS0105EN-SkillsNetwork/labs/Module2/images/SN_web_lightmode.png\" width=\"300\" alt=\"cognitiveclass.ai logo\">\n",
    "</center>\n"
   ]
  },
  {
   "cell_type": "markdown",
   "metadata": {},
   "source": [
    "#### Add your code below following the instructions given in the course\n"
   ]
  },
  {
   "cell_type": "markdown",
   "metadata": {},
   "source": [
    "## Data Science Notebook"
   ]
  },
  {
   "cell_type": "markdown",
   "metadata": {},
   "source": [
    "\n",
    "#Introduction\n",
    "This notebook contains exercises related to data science concepts, including programming languages, libraries, tools, and basic arithmetic operatioZ"
   ]
  },
  {
   "cell_type": "markdown",
   "metadata": {},
   "source": [
    "## Data Science Languages\n",
    "- Python\n",
    "- R\n",
    "- SQL\n",
    "- Julia\n",
    "- Scala"
   ]
  },
  {
   "cell_type": "markdown",
   "metadata": {},
   "source": [
    "'''\n",
    "## Data Science Libraries\n",
    "- NumPy\n",
    "- Pandas\n",
    "- Matplotlib\n",
    "- Scikit-learn\n",
    "- TensorFlow\n",
    "- Keras\n",
    "'''"
   ]
  },
  {
   "cell_type": "markdown",
   "metadata": {},
   "source": [
    "## Data Science Tools\n",
    "\n",
    "| Tool            | Description                          |\n",
    "|----------------|----------------------------------|\n",
    "| Jupyter Notebook | Interactive computing environment |\n",
    "| RStudio         | IDE for R programming             |\n",
    "| Apache Spark    | Big data processing               |\n",
    "| TensorFlow      | Machine learning framework       |\n",
    "| Tableau         | Data visualization tool          |"
   ]
  },
  {
   "cell_type": "markdown",
   "metadata": {},
   "source": [
    "## Data Science Tools\n",
    "\n",
    "| Tool            | Description                          |\n",
    "|----------------|----------------------------------|\n",
    "| Jupyter Notebook | Interactive computing environment |\n",
    "| RStudio         | IDE for R programming             |\n",
    "| Apache Spark    | Big data processing               |\n",
    "| TensorFlow      | Machine learning framework       |\n",
    "| Tableau         | Data visualization tool          |"
   ]
  },
  {
   "cell_type": "markdown",
   "metadata": {},
   "source": [
    "## Arithmetic Expression Examples\n",
    "Below are some examples of arithmetic expressions such as addition and multiplication.\n"
   ]
  },
  {
   "cell_type": "code",
   "execution_count": 14,
   "metadata": {},
   "outputs": [
    {
     "name": "stdout",
     "output_type": "stream",
     "text": [
      "Multiplication and Addition Result: 60\n"
     ]
    }
   ],
   "source": [
    "# Multiplication and addition\n",
    "a = 5\n",
    "b = 10\n",
    "result = (a * b) + b\n",
    "print(\"Multiplication and Addition Result:\", result)\n"
   ]
  },
  {
   "cell_type": "code",
   "execution_count": 15,
   "metadata": {},
   "outputs": [
    {
     "name": "stdout",
     "output_type": "stream",
     "text": [
      "Minutes to Hours Conversion: 2.0\n"
     ]
    }
   ],
   "source": [
    "# Convert minutes to hours\n",
    "minutes = 120\n",
    "hours = minutes / 60\n",
    "print(\"Minutes to Hours Conversion:\", hours)"
   ]
  },
  {
   "cell_type": "markdown",
   "metadata": {},
   "source": [
    "### Exercise 10: List Objectives\n",
    "\"\"\"\n",
    "## Objectives\n",
    "- Learn different data science languages\n",
    "- Understand commonly used data science libraries\n",
    "- Explore various data science tools\n",
    "- Perform basic arithmetic operations\n",
    "- Convert time units in Python\n",
    "\"\"\""
   ]
  },
  {
   "cell_type": "markdown",
   "metadata": {},
   "source": [
    "### Exercise 11: Author’s Name\n",
    "\"\"\"\n",
    "## Author\n",
    "**Suyash Bapat**\n",
    "\"\"\""
   ]
  }
 ],
 "metadata": {
  "kernelspec": {
   "display_name": "Python 3 (ipykernel)",
   "language": "python",
   "name": "python3"
  },
  "language_info": {
   "codemirror_mode": {
    "name": "ipython",
    "version": 3
   },
   "file_extension": ".py",
   "mimetype": "text/x-python",
   "name": "python",
   "nbconvert_exporter": "python",
   "pygments_lexer": "ipython3",
   "version": "3.12.8"
  }
 },
 "nbformat": 4,
 "nbformat_minor": 4
}
